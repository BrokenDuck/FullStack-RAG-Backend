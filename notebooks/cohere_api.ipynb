{
 "cells": [
  {
   "cell_type": "code",
   "execution_count": 2,
   "metadata": {},
   "outputs": [
    {
     "data": {
      "text/plain": [
       "True"
      ]
     },
     "execution_count": 2,
     "metadata": {},
     "output_type": "execute_result"
    }
   ],
   "source": [
    "from dotenv import load_dotenv\n",
    "import os\n",
    "\n",
    "load_dotenv('../.env')"
   ]
  },
  {
   "cell_type": "code",
   "execution_count": 4,
   "metadata": {},
   "outputs": [
    {
     "name": "stdout",
     "output_type": "stream",
     "text": [
      "An LLM, or a Large Language Model, is a type of artificial intelligence (AI) system, specifically a deep learning model, designed to understand and generate human language. It is a type of neural network, typically based on transformer architecture, trained on vast amounts of text data to learn the patterns, structures, and context of human language.\n",
      "\n",
      "LLMs are capable of various language-related tasks, including text prediction, language translation, text summarization, question answering, sentiment analysis, and content generation. These models can process and understand long sequences of text, capturing complex relationships between words and sentences.\n",
      "\n",
      "The key feature of LLMs is their ability to generate human-like text by predicting the next word in a sequence based on the context provided. They can complete sentences, write paragraphs, translate languages, and even generate creative content like stories, poems, or dialogues.\n",
      "\n",
      "Some well-known examples of LLMs include OpenAI's GPT-3 (Generative Pre-trained Transformer 3), Google's BERT (Bidirectional Encoder Representations from Transformers), and Cohere's Command model, which you are interacting with right now. These models have revolutionized natural language processing (NLP) and have numerous applications in various industries, such as customer service, content creation, language translation, virtual assistants, and more.\n",
      "\n",
      "LLMs continue to advance rapidly, becoming increasingly sophisticated and capable of handling more complex language tasks, making them a crucial component of modern AI technologies."
     ]
    }
   ],
   "source": [
    "import httpx\n",
    "import cohere\n",
    "\n",
    "co = cohere.ClientV2(api_key=os.getenv('COMMAND_R_PLUS_API_KEY'), base_url=os.getenv('COMMAND_R_PLUS_URL'))\n",
    "\n",
    "res = co.chat_stream(\n",
    "    model=\"command-r-plus-08-2024\",\n",
    "    messages=[{\"role\": \"user\", \"content\": \"What is an LLM?\"}],\n",
    ")\n",
    "\n",
    "try:\n",
    "    for event in res:\n",
    "        if event:\n",
    "            if event.type == \"content-delta\":\n",
    "                print(event.delta.message.content.text, end=\"\")\n",
    "except httpx.RemoteProtocolError:\n",
    "    pass"
   ]
  },
  {
   "cell_type": "code",
   "execution_count": 6,
   "metadata": {},
   "outputs": [
    {
     "name": "stdout",
     "output_type": "stream",
     "text": [
      "LLM stands for Large Language Model. It is a type of artificial intelligence model that is trained to understand and generate human-like language. These models are designed to process and analyze vast amounts of text data, enabling them to perform various natural language processing tasks.\n",
      "\n",
      "Large Language Models are typically based on deep learning architectures, particularly transformer-based models like GPT (Generative Pre-trained Transformer) or BERT (Bidirectional Encoder Representations from Transformers). These models are trained on enormous corpora of text, often consisting of billions of words, allowing them to learn patterns, grammar, and context from the data.\n",
      "\n",
      "The key characteristic of LLMs is their ability to generate coherent and contextually relevant text. They can complete sentences, answer questions, summarize information, translate languages, and even engage in creative writing tasks. LLMs achieve this by predicting the next most probable word or token based on the input they receive and their training data.\n",
      "\n",
      "These models have revolutionized natural language processing and have found applications in a wide range of fields, including virtual assistants, chatbots, content generation, language translation, sentiment analysis, and more. Their ability to understand and generate human-like language has opened up new possibilities for human-computer interaction and automated language-based tasks."
     ]
    }
   ],
   "source": [
    "import cohere\n",
    "\n",
    "co = cohere.AsyncClientV2(api_key=os.getenv('COMMAND_R_API_KEY'), base_url=os.getenv('COMMAND_R_URL'))\n",
    "\n",
    "async def stream():\n",
    "    res = co.chat_stream(\n",
    "        model=\"command-r-08-2024\",\n",
    "        messages=[{\"role\": \"user\", \"content\": \"What is an LLM?\"}],\n",
    "    )\n",
    "\n",
    "    try:\n",
    "        async for event in res:\n",
    "            if event:\n",
    "                if event.type == \"content-delta\":\n",
    "                    print(event.delta.message.content.text, end=\"\")\n",
    "    except httpx.ReadError:\n",
    "        pass\n",
    "\n",
    "await stream()"
   ]
  },
  {
   "cell_type": "code",
   "execution_count": 6,
   "metadata": {},
   "outputs": [
    {
     "name": "stdout",
     "output_type": "stream",
     "text": [
      "5.13.11\n"
     ]
    }
   ],
   "source": [
    "print(cohere.__version__)"
   ]
  }
 ],
 "metadata": {
  "kernelspec": {
   "display_name": "FullStack-RAG-Env",
   "language": "python",
   "name": "python3"
  },
  "language_info": {
   "codemirror_mode": {
    "name": "ipython",
    "version": 3
   },
   "file_extension": ".py",
   "mimetype": "text/x-python",
   "name": "python",
   "nbconvert_exporter": "python",
   "pygments_lexer": "ipython3",
   "version": "3.12.8"
  }
 },
 "nbformat": 4,
 "nbformat_minor": 2
}
