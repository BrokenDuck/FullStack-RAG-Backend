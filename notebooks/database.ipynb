{
 "cells": [
  {
   "cell_type": "code",
   "execution_count": 8,
   "metadata": {},
   "outputs": [
    {
     "data": {
      "text/plain": [
       "True"
      ]
     },
     "execution_count": 8,
     "metadata": {},
     "output_type": "execute_result"
    }
   ],
   "source": [
    "import os\n",
    "from dotenv import load_dotenv\n",
    "\n",
    "load_dotenv('../.env')"
   ]
  },
  {
   "cell_type": "code",
   "execution_count": 9,
   "metadata": {},
   "outputs": [],
   "source": [
    "import weaviate\n",
    "\n",
    "import weaviate.classes as wvc\n",
    "from weaviate.classes.init import Auth"
   ]
  },
  {
   "cell_type": "code",
   "execution_count": 10,
   "metadata": {},
   "outputs": [
    {
     "name": "stdout",
     "output_type": "stream",
     "text": [
      "True\n"
     ]
    }
   ],
   "source": [
    "# Best practice: store your credentials in environment variables\n",
    "weaviate_api_key = os.environ[\"WEAVIATE_API_KEY\"]\n",
    "\n",
    "client = weaviate.connect_to_local(\n",
    "    auth_credentials=Auth.api_key(weaviate_api_key)\n",
    ")\n",
    "\n",
    "print(client.is_ready())\n",
    "\n",
    "assert client.is_ready()"
   ]
  },
  {
   "cell_type": "code",
   "execution_count": 16,
   "metadata": {},
   "outputs": [
    {
     "data": {
      "text/plain": [
       "True"
      ]
     },
     "execution_count": 16,
     "metadata": {},
     "output_type": "execute_result"
    }
   ],
   "source": [
    "# Create the collection. Weaviate's autoschema feature will infer properties when importing.\n",
    "questions = client.collections.create(\n",
    "    \"Documents\",\n",
    "    vectorizer_config=[wvc.config.Configure.NamedVectors.none(name=\"chunk_vector\", vector_index_config=wvc.config.Configure.VectorIndex.hnsw())],\n",
    "    properties=[\n",
    "        wvc.config.Property(name=\"title\", data_type=wvc.config.DataType.TEXT),\n",
    "        wvc.config.Property(name=\"filename\", data_type=wvc.config.DataType.TEXT),\n",
    "        wvc.config.Property(name=\"chunk_content\", data_type=wvc.config.DataType.TEXT),\n",
    "    ]\n",
    ")\n",
    "questions.exists()"
   ]
  },
  {
   "cell_type": "code",
   "execution_count": 14,
   "metadata": {},
   "outputs": [],
   "source": [
    "questions = client.collections.get(\"Documents\")\n",
    "\n",
    "for item in questions.iterator(include_vector=True):\n",
    "    print(item.properties)\n",
    "    print(item.vector)"
   ]
  },
  {
   "cell_type": "code",
   "execution_count": 15,
   "metadata": {},
   "outputs": [],
   "source": [
    "client.collections.delete(\"Documents\")"
   ]
  }
 ],
 "metadata": {
  "kernelspec": {
   "display_name": "FullStack-RAG-Env",
   "language": "python",
   "name": "python3"
  },
  "language_info": {
   "codemirror_mode": {
    "name": "ipython",
    "version": 3
   },
   "file_extension": ".py",
   "mimetype": "text/x-python",
   "name": "python",
   "nbconvert_exporter": "python",
   "pygments_lexer": "ipython3",
   "version": "3.12.8"
  }
 },
 "nbformat": 4,
 "nbformat_minor": 2
}
